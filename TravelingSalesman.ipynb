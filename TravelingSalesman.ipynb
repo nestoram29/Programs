{
  "nbformat": 4,
  "nbformat_minor": 0,
  "metadata": {
    "colab": {
      "provenance": [],
      "collapsed_sections": [],
      "authorship_tag": "ABX9TyOtvSoPQiaA35FbuzbF0woL"
    },
    "kernelspec": {
      "name": "python3",
      "display_name": "Python 3"
    },
    "language_info": {
      "name": "python"
    }
  },
  "cells": [
    {
      "cell_type": "markdown",
      "source": [
        "# Setup"
      ],
      "metadata": {
        "id": "by_-TWU3oCoV"
      }
    },
    {
      "cell_type": "code",
      "source": [
        "import networkx as nx\n",
        "from networkx.classes.function import path_weight\n",
        "from networkx.algorithms import approximation as approx\n",
        "import matplotlib.pyplot as plt\n",
        "import random"
      ],
      "metadata": {
        "id": "gsIcSjXohqXA"
      },
      "execution_count": null,
      "outputs": []
    },
    {
      "cell_type": "code",
      "source": [
        "start = 0\n",
        "n = 100\n",
        "\n",
        "G = nx.complete_graph(n + 1)\n",
        "\n",
        "random.seed(17)\n",
        "\n",
        "for (u, v) in G.edges():\n",
        "  G.edges[u,v]['weight'] = random.randint(1, 1000)"
      ],
      "metadata": {
        "id": "3BPic9D0sbt6"
      },
      "execution_count": null,
      "outputs": []
    },
    {
      "cell_type": "code",
      "source": [
        "def greedy_tsp(G, source=start):\n",
        "  path = []\n",
        "  current = start\n",
        "  next = None\n",
        "\n",
        "  for i in range(n):\n",
        "    edge = min([e for e in G.edges(current) if e[1] not in path], key=lambda x:G.get_edge_data(x[0], x[1])['weight'])\n",
        "    path.append(current)\n",
        "    current = edge[1]\n",
        "\n",
        "  path.append(current)\n",
        "  path.append(start)\n",
        "  return path "
      ],
      "metadata": {
        "id": "eetEm66-JgxY"
      },
      "execution_count": null,
      "outputs": []
    },
    {
      "cell_type": "code",
      "source": [
        "initial_path = greedy_tsp(G)"
      ],
      "metadata": {
        "id": "yysn7ZveLZf1"
      },
      "execution_count": null,
      "outputs": []
    },
    {
      "cell_type": "code",
      "source": [
        "def path_cost(graph:nx.Graph, path:list):\n",
        "  full_path = path.copy()\n",
        "  if full_path[0] != start:\n",
        "    full_path.insert(0, start)\n",
        "    full_path.append(start)\n",
        "    \n",
        "  return path_weight(graph, full_path, weight='weight')"
      ],
      "metadata": {
        "id": "Cid8foSkR6ny"
      },
      "execution_count": null,
      "outputs": []
    },
    {
      "cell_type": "code",
      "source": [
        "path_cost(G, initial_path)"
      ],
      "metadata": {
        "colab": {
          "base_uri": "https://localhost:8080/"
        },
        "id": "P64jkSZBKi_M",
        "outputId": "146dea46-da14-4f9a-b42c-0e537d4d2ebb"
      },
      "execution_count": null,
      "outputs": [
        {
          "output_type": "execute_result",
          "data": {
            "text/plain": [
              "3640"
            ]
          },
          "metadata": {},
          "execution_count": 6
        }
      ]
    },
    {
      "cell_type": "markdown",
      "source": [
        "# Task 1"
      ],
      "metadata": {
        "id": "hzQBUMnkgRO1"
      }
    },
    {
      "cell_type": "markdown",
      "source": [
        "## Population Creation"
      ],
      "metadata": {
        "id": "X3ARl9fc5UOo"
      }
    },
    {
      "cell_type": "code",
      "source": [
        "chromosome = initial_path[1: -1]\n",
        "print(chromosome)"
      ],
      "metadata": {
        "colab": {
          "base_uri": "https://localhost:8080/"
        },
        "id": "5gLRerBkTkxl",
        "outputId": "4dde560c-829f-449c-c57b-7d57436abc56"
      },
      "execution_count": null,
      "outputs": [
        {
          "output_type": "stream",
          "name": "stdout",
          "text": [
            "[90, 30, 14, 13, 97, 16, 3, 66, 64, 56, 26, 24, 54, 99, 74, 50, 87, 61, 86, 60, 31, 12, 95, 79, 82, 27, 49, 98, 55, 76, 29, 10, 44, 47, 5, 48, 65, 40, 11, 9, 51, 34, 19, 84, 8, 96, 100, 62, 94, 15, 7, 70, 80, 93, 23, 25, 52, 41, 78, 72, 4, 45, 38, 42, 21, 81, 39, 68, 88, 32, 1, 36, 35, 63, 33, 89, 43, 17, 28, 77, 75, 22, 67, 73, 6, 57, 83, 53, 58, 46, 69, 18, 91, 85, 71, 20, 37, 92, 59, 2]\n"
          ]
        }
      ]
    },
    {
      "cell_type": "code",
      "source": [
        "population = [chromosome]\n",
        "\n",
        "for i in range(0, n-1):\n",
        "  for j in range(i+1, n):\n",
        "    new_chr = chromosome.copy()\n",
        "    new_chr[i], new_chr[j] = new_chr[j], new_chr[i]\n",
        "    population.append(new_chr)\n",
        "\n",
        "pop_size = len(population)\n",
        "print(f\"Population size: {pop_size}\")"
      ],
      "metadata": {
        "id": "iuFFnEU9t7Pf",
        "colab": {
          "base_uri": "https://localhost:8080/"
        },
        "outputId": "1d994fe1-b159-487f-dde8-e541463e81e7"
      },
      "execution_count": null,
      "outputs": [
        {
          "output_type": "stream",
          "name": "stdout",
          "text": [
            "Population size: 4951\n"
          ]
        }
      ]
    },
    {
      "cell_type": "code",
      "source": [
        "fitness = [0] * pop_size\n",
        "\n",
        "for i in range(pop_size): fitness[i] = path_cost(G, population[i])"
      ],
      "metadata": {
        "id": "3vK1Vo9j606x"
      },
      "execution_count": null,
      "outputs": []
    },
    {
      "cell_type": "code",
      "source": [
        "r = random.randint(0, sum(fitness))\n",
        "\n",
        "pop_subset= []\n",
        "\n",
        "for i in range(0, pop_size):\n",
        "  pop_subset.append(population[i])\n",
        "  if sum(fitness[:i+1]) > r: break\n",
        "\n",
        "subset_size = len(pop_subset)\n",
        "print(f\"Subset size: {subset_size}\")"
      ],
      "metadata": {
        "colab": {
          "base_uri": "https://localhost:8080/"
        },
        "id": "V-Pb_5D6Je-p",
        "outputId": "9b97a1b5-8d86-4a14-fa98-405a300f9bc9"
      },
      "execution_count": null,
      "outputs": [
        {
          "output_type": "stream",
          "name": "stdout",
          "text": [
            "Subset size: 4177\n"
          ]
        }
      ]
    },
    {
      "cell_type": "markdown",
      "source": [
        "## Chromosome crossover"
      ],
      "metadata": {
        "id": "UGTk8fHc5Pcx"
      }
    },
    {
      "cell_type": "code",
      "source": [
        "def create_child(p1:list, p2:list):\n",
        "  m = len(p1)\n",
        "  child = [0] * m\n",
        "  left = random.randint(0, m-2)\n",
        "  right = random.randint(left+1, m-1)\n",
        "\n",
        "  pushover = 0\n",
        "\n",
        "  for i in range(left, right+1):\n",
        "    child[i] = p1[i]\n",
        "  \n",
        "  for i in list(range(right+1, m)) + list(range(left)):\n",
        "    node_to_add = p2[ (i + pushover) % m ]\n",
        "    while node_to_add in child:\n",
        "      pushover += 1\n",
        "      node_to_add = p2[ (i + pushover) % m ]\n",
        "    child[i] = node_to_add\n",
        "\n",
        "  return child"
      ],
      "metadata": {
        "id": "_ttNCz6KXpOU"
      },
      "execution_count": null,
      "outputs": []
    },
    {
      "cell_type": "code",
      "source": [
        "def crossover(population, alpha_values=None, crossover_rate=.5):\n",
        "  new_population = []\n",
        "  A2 = list()\n",
        "\n",
        "  for i in range(0, len(population)):\n",
        "    p1, p2 = random.sample(population, 2)\n",
        "\n",
        "    if random.random() < crossover_rate:\n",
        "      c1 = create_child(p1, p2)\n",
        "      if alpha_values is not None: \n",
        "        p1_alpha = alpha_values[population.index(p1)]\n",
        "        p2_alpha = alpha_values[population.index(p2)]\n",
        "        A2.append((p1_alpha, p2_alpha))\n",
        "      \n",
        "      c2 = create_child(p2, p1)\n",
        "      if alpha_values is not None: \n",
        "        p1_alpha = alpha_values[population.index(p1)]\n",
        "        p2_alpha = alpha_values[population.index(p2)]\n",
        "        A2.append((p1_alpha, p2_alpha))\n",
        "    else:\n",
        "      c1 = p1\n",
        "      c2 = p2\n",
        "      if alpha_values is not None:\n",
        "        A2.append(alpha_values[population.index(p1)])\n",
        "        A2.append(alpha_values[population.index(p2)])\n",
        "\n",
        "\n",
        "\n",
        "    new_population.append(c1)\n",
        "    new_population.append(c2)\n",
        "\n",
        "  new_pop_size = len(new_population)\n",
        "  print(f\"Number of children: {new_pop_size}\")\n",
        "\n",
        "  return new_population, A2"
      ],
      "metadata": {
        "id": "IBUxjx1hbmio"
      },
      "execution_count": null,
      "outputs": []
    },
    {
      "cell_type": "code",
      "source": [
        "def mutate(population, mutation_rate=.01):\n",
        "  num_to_mutate = round(len(population) * mutation_rate)\n",
        "\n",
        "  to_mutate = random.sample(range(0, len(population)), num_to_mutate)\n",
        "\n",
        "  for m in to_mutate:\n",
        "    i, j = random.sample(range(n), 2)\n",
        "    mutant = population[m]\n",
        "    mutant[i], mutant[j] = mutant[j], mutant[i]"
      ],
      "metadata": {
        "id": "roRKX3QOdT36"
      },
      "execution_count": null,
      "outputs": []
    },
    {
      "cell_type": "code",
      "source": [
        "new_population, _ = crossover(pop_subset)\n",
        "mutate(new_population)"
      ],
      "metadata": {
        "colab": {
          "base_uri": "https://localhost:8080/"
        },
        "id": "AXrCQNRLcmoZ",
        "outputId": "e60e96f7-d5be-4b04-8d1c-7f9c49229a18"
      },
      "execution_count": null,
      "outputs": [
        {
          "output_type": "stream",
          "name": "stdout",
          "text": [
            "Number of children: 8354\n"
          ]
        }
      ]
    },
    {
      "cell_type": "markdown",
      "source": [
        "## Find the best one from population"
      ],
      "metadata": {
        "id": "-BT7wDqTYAv8"
      }
    },
    {
      "cell_type": "code",
      "source": [
        "fitness = [0] * len(new_population)\n",
        "\n",
        "for i in range(len(new_population)): \n",
        "  fitness[i] = path_cost(G, new_population[i])\n",
        "\n",
        "min_value = min(fitness)\n",
        "min_index = fitness.index(min_value)\n",
        "\n",
        "baseline1 = new_population[min_index]\n",
        "\n",
        "print(baseline1)\n",
        "print(f\"Baseline 1: {min_value}\" )"
      ],
      "metadata": {
        "id": "9v7lPNIfYA2q",
        "colab": {
          "base_uri": "https://localhost:8080/"
        },
        "outputId": "ef10762f-5d1c-498d-c6a4-4b658bb46a17"
      },
      "execution_count": null,
      "outputs": [
        {
          "output_type": "stream",
          "name": "stdout",
          "text": [
            "[90, 30, 14, 13, 97, 16, 3, 66, 64, 56, 26, 24, 54, 99, 74, 50, 87, 61, 86, 60, 31, 12, 95, 79, 82, 27, 49, 98, 55, 59, 29, 10, 44, 47, 5, 48, 65, 40, 11, 9, 51, 34, 19, 84, 8, 96, 100, 62, 94, 15, 7, 70, 80, 93, 23, 25, 52, 41, 78, 72, 4, 45, 38, 42, 21, 81, 39, 68, 88, 32, 1, 36, 35, 63, 33, 89, 43, 17, 28, 77, 75, 22, 67, 73, 6, 57, 83, 53, 58, 46, 69, 18, 91, 85, 71, 20, 37, 92, 76, 2]\n",
            "Baseline 1: 3295\n"
          ]
        }
      ]
    },
    {
      "cell_type": "markdown",
      "source": [
        "\n",
        "# Task 2"
      ],
      "metadata": {
        "id": "I_6OwtPngUi-"
      }
    },
    {
      "cell_type": "code",
      "source": [
        "cycle = approx.simulated_annealing_tsp(G, \"greedy\", source=start, alpha=.01)\n",
        "print(cycle)\n",
        "baseline2 = path_cost(G, cycle)\n",
        "print(f\"Baseline 2: {baseline2}\")"
      ],
      "metadata": {
        "id": "zZ2Elzbxgpmv",
        "colab": {
          "base_uri": "https://localhost:8080/"
        },
        "outputId": "94515a81-c813-4188-dd2a-738f169d8b5d"
      },
      "execution_count": null,
      "outputs": [
        {
          "output_type": "stream",
          "name": "stdout",
          "text": [
            "[0, 90, 30, 14, 13, 97, 16, 3, 66, 64, 56, 26, 24, 54, 99, 74, 50, 87, 61, 86, 60, 31, 12, 95, 79, 82, 27, 49, 98, 55, 76, 29, 10, 44, 47, 5, 48, 65, 40, 11, 9, 51, 34, 19, 84, 8, 96, 100, 62, 94, 15, 7, 70, 80, 93, 23, 25, 52, 41, 78, 72, 4, 45, 38, 42, 21, 81, 39, 68, 88, 32, 1, 36, 35, 63, 33, 89, 43, 17, 28, 77, 75, 22, 67, 73, 6, 57, 83, 53, 58, 46, 69, 18, 91, 85, 71, 20, 37, 92, 59, 2, 0]\n",
            "Baseline 2: 3640\n"
          ]
        }
      ]
    },
    {
      "cell_type": "markdown",
      "source": [
        "# Task 3"
      ],
      "metadata": {
        "id": "k1OHYgsAgZeI"
      }
    },
    {
      "cell_type": "code",
      "source": [
        "T = list()\n",
        "A = list()\n",
        "F = list()\n",
        "\n",
        "for a in range(10, 1001, 1):\n",
        "  alpha = a / 1000\n",
        "  tour = approx.simulated_annealing_tsp(G, \"greedy\", source=start, alpha=alpha)\n",
        "  fitness = path_cost(G, tour)\n",
        "  \n",
        "  T.append(tour[1:-1])\n",
        "  A.append(alpha)\n",
        "  F.append(fitness)"
      ],
      "metadata": {
        "id": "7nIStHnlgp8u"
      },
      "execution_count": null,
      "outputs": []
    },
    {
      "cell_type": "code",
      "source": [
        "r = random.randint(0, sum(F))\n",
        "\n",
        "for i in range(0, len(T)):\n",
        "  if sum(F) < r: break\n",
        "  max_f = max(F)\n",
        "  max_f_i = F.index(max_f)\n",
        "  del T[max_f_i]\n",
        "  del A[max_f_i]\n",
        "  del F[max_f_i]"
      ],
      "metadata": {
        "id": "3405p_3Srigf"
      },
      "execution_count": null,
      "outputs": []
    },
    {
      "cell_type": "code",
      "source": [
        "T2, A2 = crossover(T, alpha_values=A)\n",
        "mutate(T2)"
      ],
      "metadata": {
        "colab": {
          "base_uri": "https://localhost:8080/"
        },
        "id": "lat6D9OF7_xt",
        "outputId": "444fd496-9a91-42de-f80c-23e9f20f2573"
      },
      "execution_count": null,
      "outputs": [
        {
          "output_type": "stream",
          "name": "stdout",
          "text": [
            "Number of children: 74\n"
          ]
        }
      ]
    },
    {
      "cell_type": "code",
      "source": [
        "F2 = list()\n",
        "\n",
        "for t in T2:\n",
        "   fitness = path_cost(G, t)\n",
        "   F2.append(fitness)\n",
        "\n",
        "fittest = min(F2)\n",
        "i = F2.index(fittest)\n",
        "\n",
        "print(f\"Fittest Tour: {T2[i]}\")\n",
        "print(f\"Tour Alpha: {A2[i]}\")\n",
        "print(f\"Tour Fitness: {F2[i]}\")"
      ],
      "metadata": {
        "colab": {
          "base_uri": "https://localhost:8080/"
        },
        "id": "-q6eDeDIepto",
        "outputId": "c947ea6d-0158-44eb-a088-07811466c869"
      },
      "execution_count": null,
      "outputs": [
        {
          "output_type": "stream",
          "name": "stdout",
          "text": [
            "Fittest Tour: [90, 30, 14, 13, 97, 16, 3, 66, 64, 56, 26, 24, 54, 99, 74, 50, 87, 61, 86, 60, 31, 12, 95, 79, 82, 27, 49, 98, 55, 59, 29, 10, 44, 47, 5, 48, 65, 40, 11, 9, 51, 34, 19, 84, 8, 96, 100, 62, 94, 15, 7, 70, 80, 93, 23, 25, 52, 41, 78, 72, 4, 45, 38, 42, 21, 81, 39, 68, 88, 32, 1, 36, 35, 63, 33, 89, 43, 17, 28, 77, 75, 22, 67, 73, 6, 57, 83, 53, 58, 46, 69, 18, 91, 85, 71, 20, 37, 92, 76, 2]\n",
            "Tour Alpha: 0.026\n",
            "Tour Fitness: 3295\n"
          ]
        }
      ]
    },
    {
      "cell_type": "code",
      "source": [
        "# Just some testing \n",
        "\n",
        "best_path = T2[i].copy()\n",
        "best_path.insert(0, start)\n",
        "best_path.append(0)\n",
        "new_path = approx.simulated_annealing_tsp(G, best_path, source=start, alpha=A2[i])\n",
        "\n",
        "print(new_path)\n",
        "print(path_cost(G, new_path))"
      ],
      "metadata": {
        "colab": {
          "base_uri": "https://localhost:8080/"
        },
        "id": "Q1qXnQYqppL5",
        "outputId": "0f08f312-fba6-4e9c-a86b-be001dcb928a"
      },
      "execution_count": null,
      "outputs": [
        {
          "output_type": "stream",
          "name": "stdout",
          "text": [
            "[0, 90, 30, 14, 13, 97, 16, 3, 66, 64, 56, 26, 24, 54, 99, 74, 50, 87, 61, 86, 60, 31, 12, 95, 79, 82, 27, 49, 98, 55, 59, 29, 10, 44, 47, 5, 48, 65, 40, 11, 9, 51, 34, 19, 84, 8, 96, 100, 62, 94, 15, 7, 70, 80, 93, 23, 25, 52, 41, 78, 72, 4, 45, 38, 42, 21, 81, 39, 68, 88, 32, 1, 36, 35, 63, 33, 89, 43, 17, 28, 77, 75, 22, 67, 73, 6, 57, 83, 53, 58, 46, 69, 18, 91, 85, 71, 20, 37, 92, 76, 2, 0]\n",
            "3295\n"
          ]
        }
      ]
    },
    {
      "cell_type": "markdown",
      "source": [
        "# Task 4"
      ],
      "metadata": {
        "id": "aHyvXKm1gg5c"
      }
    },
    {
      "cell_type": "markdown",
      "source": [
        "Baseline 1 tour cost: 3295\n",
        "\n",
        "Baseline 2 tour cost: 3640\n",
        "\n",
        "Baseline 3 tour cost: 3295\n",
        "\n",
        "\n",
        "GA seemed to work fine on it's own for this task. It has a lot of randomness involved so it is more that it happaned to stumble upon the answer more than anything. I'm sure that there is some tuning that can be done make it less random. For example, picking the tours with the lowest costs to then create a new population from. Then repeating this process until the the fitness doesn't change. SA wasn't much help. It returned the same tour as the greedy_tsp algorithm. In task 3, almost all the values for alpha returned the same tour except for one. This one different tour happened to also be the best tour and the same tour as in task 1. Applying GA to the population in task 3 didn't really give us a new or better tour, just returned the same tour as the best one. I wanted to see if NetworkX's SA for tsp could find a better tour if given the best tour and the alpha that gave me the best tour. It settled on the same tour given. "
      ],
      "metadata": {
        "id": "TNoG1H1mgja3"
      }
    }
  ]
}