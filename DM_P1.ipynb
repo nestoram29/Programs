{
  "nbformat": 4,
  "nbformat_minor": 0,
  "metadata": {
    "colab": {
      "provenance": [],
      "collapsed_sections": [
        "XAoR_RAvkGMw",
        "Sr6hqmI2kXIC",
        "Qj_kHZsckMhT",
        "O3hifdHg8J0q"
      ],
      "authorship_tag": "ABX9TyPH96eN50k5lgrJKliqnjfS"
    },
    "kernelspec": {
      "name": "ir",
      "display_name": "R"
    },
    "language_info": {
      "name": "R"
    }
  },
  "cells": [
    {
      "cell_type": "markdown",
      "source": [
        "Done solo by:\n",
        "Nestor Molina"
      ],
      "metadata": {
        "id": "TPjUc21wWzdm"
      }
    },
    {
      "cell_type": "markdown",
      "source": [
        "#Task 1 Code"
      ],
      "metadata": {
        "id": "0AV62uaH8JaF"
      }
    },
    {
      "cell_type": "markdown",
      "source": [
        "## Missing Values"
      ],
      "metadata": {
        "id": "XAoR_RAvkGMw"
      }
    },
    {
      "cell_type": "markdown",
      "source": [
        "### importing libraries\n",
        "### downloading the datasets"
      ],
      "metadata": {
        "id": "r4HcVDruqk4R"
      }
    },
    {
      "cell_type": "code",
      "source": [
        "library(data.table)\n",
        "library(tidyverse)"
      ],
      "metadata": {
        "id": "BjpxvDoS_k5Z",
        "colab": {
          "base_uri": "https://localhost:8080/"
        },
        "outputId": "a0569f27-8c2d-4fed-f525-f6573bc4e858"
      },
      "execution_count": null,
      "outputs": [
        {
          "output_type": "stream",
          "name": "stderr",
          "text": [
            "Warning message in system(\"timedatectl\", intern = TRUE):\n",
            "“running command 'timedatectl' had status 1”\n",
            "── \u001b[1mAttaching packages\u001b[22m ─────────────────────────────────────── tidyverse 1.3.1 ──\n",
            "\n",
            "\u001b[32m✔\u001b[39m \u001b[34mggplot2\u001b[39m 3.3.6     \u001b[32m✔\u001b[39m \u001b[34mpurrr  \u001b[39m 0.3.4\n",
            "\u001b[32m✔\u001b[39m \u001b[34mtibble \u001b[39m 3.1.7     \u001b[32m✔\u001b[39m \u001b[34mdplyr  \u001b[39m 1.0.9\n",
            "\u001b[32m✔\u001b[39m \u001b[34mtidyr  \u001b[39m 1.2.0     \u001b[32m✔\u001b[39m \u001b[34mstringr\u001b[39m 1.4.0\n",
            "\u001b[32m✔\u001b[39m \u001b[34mreadr  \u001b[39m 2.1.2     \u001b[32m✔\u001b[39m \u001b[34mforcats\u001b[39m 0.5.1\n",
            "\n",
            "── \u001b[1mConflicts\u001b[22m ────────────────────────────────────────── tidyverse_conflicts() ──\n",
            "\u001b[31m✖\u001b[39m \u001b[34mdplyr\u001b[39m::\u001b[32mbetween()\u001b[39m   masks \u001b[34mdata.table\u001b[39m::between()\n",
            "\u001b[31m✖\u001b[39m \u001b[34mdplyr\u001b[39m::\u001b[32mfilter()\u001b[39m    masks \u001b[34mstats\u001b[39m::filter()\n",
            "\u001b[31m✖\u001b[39m \u001b[34mdplyr\u001b[39m::\u001b[32mfirst()\u001b[39m     masks \u001b[34mdata.table\u001b[39m::first()\n",
            "\u001b[31m✖\u001b[39m \u001b[34mdplyr\u001b[39m::\u001b[32mlag()\u001b[39m       masks \u001b[34mstats\u001b[39m::lag()\n",
            "\u001b[31m✖\u001b[39m \u001b[34mdplyr\u001b[39m::\u001b[32mlast()\u001b[39m      masks \u001b[34mdata.table\u001b[39m::last()\n",
            "\u001b[31m✖\u001b[39m \u001b[34mpurrr\u001b[39m::\u001b[32mtranspose()\u001b[39m masks \u001b[34mdata.table\u001b[39m::transpose()\n",
            "\n"
          ]
        }
      ]
    },
    {
      "cell_type": "code",
      "source": [
        "german <- setDF(fread('https://archive.ics.uci.edu/ml/machine-learning-databases/statlog/german/german.data'))\n",
        "\n",
        "cancer <- setDF(fread('https://archive.ics.uci.edu/ml/machine-learning-databases/breast-cancer/breast-cancer.data'))"
      ],
      "metadata": {
        "id": "gHmyeCZKRRTY"
      },
      "execution_count": null,
      "outputs": []
    },
    {
      "cell_type": "markdown",
      "source": [
        "###Adding the attribute names for the columns of the cancer dataset to make easier to understand\n",
        "###German's attribute names are too long to add"
      ],
      "metadata": {
        "id": "7nPHym37qrJA"
      }
    },
    {
      "cell_type": "code",
      "source": [
        "cancer <- cancer %>% set_names(list('Class', 'Age', 'Menopause', 'Tumor.Size', 'Inv.Nodes', 'Node.Caps', 'Deg.Malig', 'Breast', 'Breast.Quad', 'Irradiat'))\n",
        "str(cancer)"
      ],
      "metadata": {
        "colab": {
          "base_uri": "https://localhost:8080/"
        },
        "id": "JfCs1sIFSJ4g",
        "outputId": "abd2a287-dcb0-4239-b3af-5211b0b44ed7"
      },
      "execution_count": null,
      "outputs": [
        {
          "output_type": "stream",
          "name": "stdout",
          "text": [
            "'data.frame':\t286 obs. of  10 variables:\n",
            " $ Class      : chr  \"no-recurrence-events\" \"no-recurrence-events\" \"no-recurrence-events\" \"no-recurrence-events\" ...\n",
            " $ Age        : chr  \"30-39\" \"40-49\" \"40-49\" \"60-69\" ...\n",
            " $ Menopause  : chr  \"premeno\" \"premeno\" \"premeno\" \"ge40\" ...\n",
            " $ Tumor.Size : chr  \"30-34\" \"20-24\" \"20-24\" \"15-19\" ...\n",
            " $ Inv.Nodes  : chr  \"0-2\" \"0-2\" \"0-2\" \"0-2\" ...\n",
            " $ Node.Caps  : chr  \"no\" \"no\" \"no\" \"no\" ...\n",
            " $ Deg.Malig  : int  3 2 2 2 2 2 2 1 2 2 ...\n",
            " $ Breast     : chr  \"left\" \"right\" \"left\" \"right\" ...\n",
            " $ Breast.Quad: chr  \"left_low\" \"right_up\" \"left_low\" \"left_up\" ...\n",
            " $ Irradiat   : chr  \"no\" \"no\" \"no\" \"no\" ...\n"
          ]
        }
      ]
    },
    {
      "cell_type": "markdown",
      "source": [
        "### Removing repeated rows if there are any"
      ],
      "metadata": {
        "id": "Wek6K1aApa2R"
      }
    },
    {
      "cell_type": "code",
      "source": [
        "nrow(german)\n",
        "nrow(german %>% unique())"
      ],
      "metadata": {
        "colab": {
          "base_uri": "https://localhost:8080/",
          "height": 52
        },
        "id": "n6viKbo1IUND",
        "outputId": "ce85ce41-44e6-483a-f114-5b4d38289bc8"
      },
      "execution_count": null,
      "outputs": [
        {
          "output_type": "display_data",
          "data": {
            "text/html": [
              "1000"
            ],
            "text/markdown": "1000",
            "text/latex": "1000",
            "text/plain": [
              "[1] 1000"
            ]
          },
          "metadata": {}
        },
        {
          "output_type": "display_data",
          "data": {
            "text/html": [
              "1000"
            ],
            "text/markdown": "1000",
            "text/latex": "1000",
            "text/plain": [
              "[1] 1000"
            ]
          },
          "metadata": {}
        }
      ]
    },
    {
      "cell_type": "code",
      "source": [
        "nrow(cancer)\n",
        "nrow(cancer %>% unique())\n",
        "cancer <- cancer %>% unique()"
      ],
      "metadata": {
        "colab": {
          "base_uri": "https://localhost:8080/",
          "height": 52
        },
        "id": "m3GzT3fnIgcH",
        "outputId": "280d3956-c731-45ce-e10c-9a1c057f6b41"
      },
      "execution_count": null,
      "outputs": [
        {
          "output_type": "display_data",
          "data": {
            "text/html": [
              "286"
            ],
            "text/markdown": "286",
            "text/latex": "286",
            "text/plain": [
              "[1] 286"
            ]
          },
          "metadata": {}
        },
        {
          "output_type": "display_data",
          "data": {
            "text/html": [
              "272"
            ],
            "text/markdown": "272",
            "text/latex": "272",
            "text/plain": [
              "[1] 272"
            ]
          },
          "metadata": {}
        }
      ]
    },
    {
      "cell_type": "markdown",
      "source": [
        "###The Cancer data set has empty values, noted with '?'. The following finds columns with '?' in them. The columns found with '?' values are then manually selected and the values are replaced with the mode of that column"
      ],
      "metadata": {
        "id": "sjBhb8DEqMpp"
      }
    },
    {
      "cell_type": "code",
      "source": [
        "for(i in 1:ncol(cancer)) {\n",
        "  values <- cancer[, i] %>% unique()\n",
        "  \n",
        "  if (any(values == '?')) {\n",
        "    print(names(cancer)[i])\n",
        "    print(values)\n",
        "  }\n",
        "}"
      ],
      "metadata": {
        "colab": {
          "base_uri": "https://localhost:8080/"
        },
        "id": "czaltMkyWrmO",
        "outputId": "32ff254a-6675-4771-87bc-4b157adb177a"
      },
      "execution_count": null,
      "outputs": [
        {
          "output_type": "stream",
          "name": "stdout",
          "text": [
            "[1] \"Node.Caps\"\n",
            "[1] \"no\"  \"yes\" \"?\"  \n",
            "[1] \"Breast.Quad\"\n",
            "[1] \"left_low\"  \"right_up\"  \"left_up\"   \"right_low\" \"central\"   \"?\"        \n"
          ]
        }
      ]
    },
    {
      "cell_type": "code",
      "source": [
        "getmode <- function(v) {\n",
        "   uniqv <- unique(v)\n",
        "   uniqv[which.max(tabulate(match(v, uniqv)))]\n",
        "}\n",
        "\n",
        "cancer$Node.Caps[cancer$Node.Caps=='?']<- getmode(cancer$Node.Caps)\n",
        "cancer$Breast.Quad[cancer$Breast.Quad=='?'] <- getmode(cancer$Breast.Quad)"
      ],
      "metadata": {
        "id": "X0reLA9eRWcz"
      },
      "execution_count": null,
      "outputs": []
    },
    {
      "cell_type": "markdown",
      "source": [
        "## Normalization"
      ],
      "metadata": {
        "id": "Sr6hqmI2kXIC"
      }
    },
    {
      "cell_type": "markdown",
      "source": [
        "### Column 21 is converted to a factor since it is more of a category than a continous numerical value\n",
        "### Columns that correspond to T/F are converted to Logical types"
      ],
      "metadata": {
        "id": "pdQgwbWLskZZ"
      }
    },
    {
      "cell_type": "code",
      "source": [
        "german$V19 <- gsub('A191', 'FALSE', german$V19)\n",
        "german$V19 <- gsub('A192', 'TRUE', german$V19)\n",
        "german$V19 <- as.logical(german$V19)\n",
        "\n",
        "german$V20 <- gsub('A201', 'TRUE', german$V20)\n",
        "german$V20 <- gsub('A202', 'FALSE', german$V20)\n",
        "german$V20 <- as.logical(german$V20)"
      ],
      "metadata": {
        "id": "nG6f7xJYEYr2"
      },
      "execution_count": null,
      "outputs": []
    },
    {
      "cell_type": "code",
      "source": [
        "german$V21 = as.factor(german$V21)"
      ],
      "metadata": {
        "id": "AqzeRUdHrvJz"
      },
      "execution_count": null,
      "outputs": []
    },
    {
      "cell_type": "code",
      "source": [
        "str(german)"
      ],
      "metadata": {
        "colab": {
          "base_uri": "https://localhost:8080/"
        },
        "id": "AeMLE-MIkZXe",
        "outputId": "7ec893d5-171f-4f5c-e598-8c9da38b78d6"
      },
      "execution_count": null,
      "outputs": [
        {
          "output_type": "stream",
          "name": "stdout",
          "text": [
            "'data.frame':\t1000 obs. of  21 variables:\n",
            " $ V1 : chr  \"A11\" \"A12\" \"A14\" \"A11\" ...\n",
            " $ V2 : int  6 48 12 42 24 36 24 36 12 30 ...\n",
            " $ V3 : chr  \"A34\" \"A32\" \"A34\" \"A32\" ...\n",
            " $ V4 : chr  \"A43\" \"A43\" \"A46\" \"A42\" ...\n",
            " $ V5 : int  1169 5951 2096 7882 4870 9055 2835 6948 3059 5234 ...\n",
            " $ V6 : chr  \"A65\" \"A61\" \"A61\" \"A61\" ...\n",
            " $ V7 : chr  \"A75\" \"A73\" \"A74\" \"A74\" ...\n",
            " $ V8 : int  4 2 2 2 3 2 3 2 2 4 ...\n",
            " $ V9 : chr  \"A93\" \"A92\" \"A93\" \"A93\" ...\n",
            " $ V10: chr  \"A101\" \"A101\" \"A101\" \"A103\" ...\n",
            " $ V11: int  4 2 3 4 4 4 4 2 4 2 ...\n",
            " $ V12: chr  \"A121\" \"A121\" \"A121\" \"A122\" ...\n",
            " $ V13: int  67 22 49 45 53 35 53 35 61 28 ...\n",
            " $ V14: chr  \"A143\" \"A143\" \"A143\" \"A143\" ...\n",
            " $ V15: chr  \"A152\" \"A152\" \"A152\" \"A153\" ...\n",
            " $ V16: int  2 1 1 1 2 1 1 1 1 2 ...\n",
            " $ V17: chr  \"A173\" \"A173\" \"A172\" \"A173\" ...\n",
            " $ V18: int  1 1 2 2 2 2 1 1 1 1 ...\n",
            " $ V19: logi  TRUE FALSE FALSE FALSE FALSE TRUE ...\n",
            " $ V20: logi  TRUE TRUE TRUE TRUE TRUE TRUE ...\n",
            " $ V21: Factor w/ 2 levels \"1\",\"2\": 1 2 1 1 2 1 1 1 1 2 ...\n"
          ]
        }
      ]
    },
    {
      "cell_type": "markdown",
      "source": [
        "### Each column that has a type of 'integer' is then normalized using the Z-Score standardization method"
      ],
      "metadata": {
        "id": "IaMQ0NF_s6a-"
      }
    },
    {
      "cell_type": "code",
      "source": [
        "types <- sapply(german, class)\n",
        "\n",
        "for(i in 1:ncol(german)) {\n",
        "  if (types[i] == 'integer') {\n",
        "    german[[i]]  <- (german[[i]] - mean(german[[i]])) / sd(german[[i]])\n",
        "  }\n",
        "  if (types[i] == 'character') {\n",
        "    s <- paste('A', i, sep='')\n",
        "    german[[i]] <- gsub(s , '', german[[i]])\n",
        "  }\n",
        "}\n",
        "\n",
        "german <- as.data.frame(unclass(german), stringsAsFactors = TRUE)"
      ],
      "metadata": {
        "id": "I4ibf5l8lq3A"
      },
      "execution_count": null,
      "outputs": []
    },
    {
      "cell_type": "code",
      "source": [
        "str(german)"
      ],
      "metadata": {
        "colab": {
          "base_uri": "https://localhost:8080/"
        },
        "id": "AM6m_T1XqWpy",
        "outputId": "a15feabe-e31b-4b5b-c297-f74a520cf6ed"
      },
      "execution_count": null,
      "outputs": [
        {
          "output_type": "stream",
          "name": "stdout",
          "text": [
            "'data.frame':\t1000 obs. of  21 variables:\n",
            " $ V1 : Factor w/ 4 levels \"1\",\"2\",\"3\",\"4\": 1 2 4 1 1 4 4 2 4 2 ...\n",
            " $ V2 : num  -1.236 2.247 -0.738 1.75 0.257 ...\n",
            " $ V3 : Factor w/ 5 levels \"0\",\"1\",\"2\",\"3\",..: 5 3 5 3 4 3 3 3 3 5 ...\n",
            " $ V4 : Factor w/ 10 levels \"0\",\"1\",\"10\",\"2\",..: 5 5 8 4 1 8 4 2 5 1 ...\n",
            " $ V5 : num  -0.745 0.949 -0.416 1.633 0.566 ...\n",
            " $ V6 : Factor w/ 5 levels \"1\",\"2\",\"3\",\"4\",..: 5 1 1 1 1 5 3 1 4 1 ...\n",
            " $ V7 : Factor w/ 5 levels \"1\",\"2\",\"3\",\"4\",..: 5 3 4 4 3 3 5 3 4 1 ...\n",
            " $ V8 : num  0.918 -0.8697 -0.8697 -0.8697 0.0241 ...\n",
            " $ V9 : Factor w/ 4 levels \"1\",\"2\",\"3\",\"4\": 3 2 3 3 3 3 3 3 1 4 ...\n",
            " $ V10: Factor w/ 3 levels \"1\",\"2\",\"3\": 1 1 1 3 1 1 1 1 1 1 ...\n",
            " $ V11: num  1.046 -0.766 0.14 1.046 1.046 ...\n",
            " $ V12: Factor w/ 4 levels \"1\",\"2\",\"3\",\"4\": 1 1 1 2 4 4 2 3 1 3 ...\n",
            " $ V13: num  2.765 -1.191 1.183 0.831 1.534 ...\n",
            " $ V14: Factor w/ 3 levels \"1\",\"2\",\"3\": 3 3 3 3 3 3 3 3 3 3 ...\n",
            " $ V15: Factor w/ 3 levels \"1\",\"2\",\"3\": 2 2 2 3 3 3 2 1 2 2 ...\n",
            " $ V16: num  1.027 -0.705 -0.705 -0.705 1.027 ...\n",
            " $ V17: Factor w/ 4 levels \"1\",\"2\",\"3\",\"4\": 3 3 2 3 3 2 3 4 2 4 ...\n",
            " $ V18: num  -0.428 -0.428 2.334 2.334 2.334 ...\n",
            " $ V19: logi  TRUE FALSE FALSE FALSE FALSE TRUE ...\n",
            " $ V20: logi  TRUE TRUE TRUE TRUE TRUE TRUE ...\n",
            " $ V21: Factor w/ 2 levels \"1\",\"2\": 1 2 1 1 2 1 1 1 1 2 ...\n"
          ]
        }
      ]
    },
    {
      "cell_type": "markdown",
      "source": [
        "### The cancer dataset does not contain any pure numerical values (other than Deg.Malig) so normalization isn't necessary.\n",
        "\n",
        "### Deg.Malig is of a numerical type but it's more of a category than a continuous value so I convert it to a factor"
      ],
      "metadata": {
        "id": "wOMQhGU1sCjQ"
      }
    },
    {
      "cell_type": "code",
      "source": [
        "str(cancer)"
      ],
      "metadata": {
        "id": "vmsnR0ZSHUAL",
        "colab": {
          "base_uri": "https://localhost:8080/"
        },
        "outputId": "768308f2-e3b2-4356-8862-608f913ed30f"
      },
      "execution_count": null,
      "outputs": [
        {
          "output_type": "stream",
          "name": "stdout",
          "text": [
            "'data.frame':\t272 obs. of  10 variables:\n",
            " $ Class      : chr  \"no-recurrence-events\" \"no-recurrence-events\" \"no-recurrence-events\" \"no-recurrence-events\" ...\n",
            " $ Age        : chr  \"30-39\" \"40-49\" \"40-49\" \"60-69\" ...\n",
            " $ Menopause  : chr  \"premeno\" \"premeno\" \"premeno\" \"ge40\" ...\n",
            " $ Tumor.Size : chr  \"30-34\" \"20-24\" \"20-24\" \"15-19\" ...\n",
            " $ Inv.Nodes  : chr  \"0-2\" \"0-2\" \"0-2\" \"0-2\" ...\n",
            " $ Node.Caps  : chr  \"no\" \"no\" \"no\" \"no\" ...\n",
            " $ Deg.Malig  : int  3 2 2 2 2 2 2 1 2 2 ...\n",
            " $ Breast     : chr  \"left\" \"right\" \"left\" \"right\" ...\n",
            " $ Breast.Quad: chr  \"left_low\" \"right_up\" \"left_low\" \"left_up\" ...\n",
            " $ Irradiat   : chr  \"no\" \"no\" \"no\" \"no\" ...\n"
          ]
        }
      ]
    },
    {
      "cell_type": "code",
      "source": [
        "cancer$Node.Caps <- gsub('no', 'FALSE', cancer$Node.Caps)\n",
        "cancer$Node.Caps <- gsub('yes', 'TRUE', cancer$Node.Caps)\n",
        "cancer$Node.Caps <- as.logical(cancer$Node.Caps)\n",
        "\n",
        "cancer$Irradiat <- gsub('no', 'FALSE', cancer$Irradiat)\n",
        "cancer$Irradiat <- gsub('yes', 'TRUE', cancer$Irradiat)\n",
        "cancer$Irradiat <- as.logical(cancer$Irradiat)"
      ],
      "metadata": {
        "id": "I4ZHynLoHI8-"
      },
      "execution_count": null,
      "outputs": []
    },
    {
      "cell_type": "code",
      "source": [
        "cancer$Deg.Malig = as.factor(cancer$Deg.Malig)\n",
        "cancer <- as.data.frame(unclass(cancer), stringsAsFactors = TRUE)\n",
        "str(cancer)"
      ],
      "metadata": {
        "id": "hJ1lCnRerfwe",
        "colab": {
          "base_uri": "https://localhost:8080/"
        },
        "outputId": "8835b915-a86f-4e8b-cfe4-31cd6b5f00c7"
      },
      "execution_count": null,
      "outputs": [
        {
          "output_type": "stream",
          "name": "stdout",
          "text": [
            "'data.frame':\t272 obs. of  10 variables:\n",
            " $ Class      : Factor w/ 2 levels \"no-recurrence-events\",..: 1 1 1 1 1 1 1 1 1 1 ...\n",
            " $ Age        : Factor w/ 6 levels \"20-29\",\"30-39\",..: 2 3 3 5 3 5 4 5 3 3 ...\n",
            " $ Menopause  : Factor w/ 3 levels \"ge40\",\"lt40\",..: 3 3 3 1 3 1 3 1 3 3 ...\n",
            " $ Tumor.Size : Factor w/ 11 levels \"0-4\",\"10-14\",..: 6 4 4 3 1 3 5 4 11 4 ...\n",
            " $ Inv.Nodes  : Factor w/ 7 levels \"0-2\",\"12-14\",..: 1 1 1 1 1 1 1 1 1 1 ...\n",
            " $ Node.Caps  : logi  FALSE FALSE FALSE FALSE FALSE FALSE ...\n",
            " $ Deg.Malig  : Factor w/ 3 levels \"1\",\"2\",\"3\": 3 2 2 2 2 2 2 1 2 2 ...\n",
            " $ Breast     : Factor w/ 2 levels \"left\",\"right\": 1 2 1 2 2 1 1 1 1 2 ...\n",
            " $ Breast.Quad: Factor w/ 5 levels \"central\",\"left_low\",..: 2 5 2 3 4 2 2 2 2 3 ...\n",
            " $ Irradiat   : logi  FALSE FALSE FALSE FALSE FALSE FALSE ...\n"
          ]
        }
      ]
    },
    {
      "cell_type": "markdown",
      "source": [
        "## Feature Selection"
      ],
      "metadata": {
        "id": "Qj_kHZsckMhT"
      }
    },
    {
      "cell_type": "markdown",
      "source": [
        "### To do feature selection, the data is split into training and testing sets"
      ],
      "metadata": {
        "id": "cgN6pi6KWTy8"
      }
    },
    {
      "cell_type": "code",
      "source": [
        "if (!require(caret)) install.packages('caret')\n",
        "library(caret)"
      ],
      "metadata": {
        "id": "J3x2kZ3rUT9S",
        "colab": {
          "base_uri": "https://localhost:8080/"
        },
        "outputId": "903b9b1e-9d74-4539-a07d-160603c8ed06"
      },
      "execution_count": null,
      "outputs": [
        {
          "output_type": "stream",
          "name": "stderr",
          "text": [
            "Loading required package: caret\n",
            "\n",
            "Warning message in library(package, lib.loc = lib.loc, character.only = TRUE, logical.return = TRUE, :\n",
            "“there is no package called ‘caret’”\n",
            "Installing package into ‘/usr/local/lib/R/site-library’\n",
            "(as ‘lib’ is unspecified)\n",
            "\n",
            "also installing the dependencies ‘listenv’, ‘parallelly’, ‘future’, ‘globals’, ‘future.apply’, ‘progressr’, ‘numDeriv’, ‘SQUAREM’, ‘lava’, ‘prodlim’, ‘proxy’, ‘iterators’, ‘Rcpp’, ‘gower’, ‘hardhat’, ‘ipred’, ‘timeDate’, ‘e1071’, ‘foreach’, ‘ModelMetrics’, ‘plyr’, ‘pROC’, ‘recipes’, ‘reshape2’\n",
            "\n",
            "\n",
            "Loading required package: lattice\n",
            "\n",
            "\n",
            "Attaching package: ‘caret’\n",
            "\n",
            "\n",
            "The following object is masked from ‘package:purrr’:\n",
            "\n",
            "    lift\n",
            "\n",
            "\n"
          ]
        }
      ]
    },
    {
      "cell_type": "code",
      "source": [
        "set.seed(1111)\n",
        "trainIndex <- createDataPartition(y = german$V21, p=0.7, list=FALSE)\n",
        "\n",
        "german_train <- german[trainIndex,]\n",
        "german_test <- german[-trainIndex,]\n",
        "\n",
        "nrow(german_train)\n",
        "nrow(german_test)"
      ],
      "metadata": {
        "id": "Dq9Pe72c9RP-",
        "colab": {
          "base_uri": "https://localhost:8080/",
          "height": 52
        },
        "outputId": "0a684932-c9bb-4de7-fa9a-860f9bfd508d"
      },
      "execution_count": null,
      "outputs": [
        {
          "output_type": "display_data",
          "data": {
            "text/html": [
              "700"
            ],
            "text/markdown": "700",
            "text/latex": "700",
            "text/plain": [
              "[1] 700"
            ]
          },
          "metadata": {}
        },
        {
          "output_type": "display_data",
          "data": {
            "text/html": [
              "300"
            ],
            "text/markdown": "300",
            "text/latex": "300",
            "text/plain": [
              "[1] 300"
            ]
          },
          "metadata": {}
        }
      ]
    },
    {
      "cell_type": "code",
      "source": [
        "trainIndex <- createDataPartition(y = cancer$Class, p=0.7, list=FALSE)\n",
        "\n",
        "cancer_train <- cancer[trainIndex,]\n",
        "cancer_test <- cancer[-trainIndex,]\n",
        "\n",
        "nrow(cancer_train)\n",
        "nrow(cancer_test)"
      ],
      "metadata": {
        "id": "OCZrYRtp9Rq3",
        "colab": {
          "base_uri": "https://localhost:8080/",
          "height": 52
        },
        "outputId": "9901d320-9ebc-449b-ec61-3f717e5e15fe"
      },
      "execution_count": null,
      "outputs": [
        {
          "output_type": "display_data",
          "data": {
            "text/html": [
              "191"
            ],
            "text/markdown": "191",
            "text/latex": "191",
            "text/plain": [
              "[1] 191"
            ]
          },
          "metadata": {}
        },
        {
          "output_type": "display_data",
          "data": {
            "text/html": [
              "81"
            ],
            "text/markdown": "81",
            "text/latex": "81",
            "text/plain": [
              "[1] 81"
            ]
          },
          "metadata": {}
        }
      ]
    },
    {
      "cell_type": "markdown",
      "source": [
        "### Now that the datasets are split into train/test sets we can do feature selection"
      ],
      "metadata": {
        "id": "iMMcqnCDWdPk"
      }
    },
    {
      "cell_type": "code",
      "source": [
        "if (!require('FSelector')) install.packages('FSelector')\n",
        "library(FSelector)"
      ],
      "metadata": {
        "id": "b4qc9JfAVUUx",
        "colab": {
          "base_uri": "https://localhost:8080/"
        },
        "outputId": "497eff10-ef23-4dc5-e5f7-f1d725560230"
      },
      "execution_count": null,
      "outputs": [
        {
          "output_type": "stream",
          "name": "stderr",
          "text": [
            "Loading required package: FSelector\n",
            "\n",
            "Warning message in library(package, lib.loc = lib.loc, character.only = TRUE, logical.return = TRUE, :\n",
            "“there is no package called ‘FSelector’”\n",
            "Installing package into ‘/usr/local/lib/R/site-library’\n",
            "(as ‘lib’ is unspecified)\n",
            "\n",
            "also installing the dependencies ‘RWekajars’, ‘rJava’, ‘entropy’, ‘randomForest’, ‘RWeka’\n",
            "\n",
            "\n"
          ]
        }
      ]
    },
    {
      "cell_type": "code",
      "source": [
        "results <- german_train %>% cfs(V21 ~ ., data = .)\n",
        "(g_formula <- as.simple.formula(results, 'V21'))\n",
        "\n",
        "#(results <- german_train %>% chi.squared(V21 ~ ., data = .) %>% arrange(desc(attr_importance)))"
      ],
      "metadata": {
        "id": "vP4H5DERVSpG",
        "colab": {
          "base_uri": "https://localhost:8080/",
          "height": 52
        },
        "outputId": "85a1151c-7b7a-4134-cc8f-a81540efa9a3"
      },
      "execution_count": null,
      "outputs": [
        {
          "output_type": "display_data",
          "data": {
            "text/plain": [
              "V21 ~ V1 + V2 + V3 + V5 + V6\n",
              "<environment: 0x560267c46eb0>"
            ]
          },
          "metadata": {}
        }
      ]
    },
    {
      "cell_type": "code",
      "source": [
        "results <- cancer_train %>% cfs(Class ~ ., data = .)\n",
        "(c_formula <- as.simple.formula(results, 'Class'))\n",
        "\n",
        "#(results <- cancer_train %>% chi.squared(Class ~ ., data = .) %>% arrange(desc(attr_importance)))"
      ],
      "metadata": {
        "id": "p_gbWnoVXSmZ",
        "colab": {
          "base_uri": "https://localhost:8080/",
          "height": 52
        },
        "outputId": "155c66e6-4d0a-4ee7-d20c-5268dc287104"
      },
      "execution_count": null,
      "outputs": [
        {
          "output_type": "display_data",
          "data": {
            "text/plain": [
              "Class ~ Tumor.Size + Inv.Nodes + Node.Caps + Deg.Malig + Irradiat\n",
              "<environment: 0x56027053f188>"
            ]
          },
          "metadata": {}
        }
      ]
    },
    {
      "cell_type": "markdown",
      "source": [
        "#Task 2 code\n",
        "\n"
      ],
      "metadata": {
        "id": "O3hifdHg8J0q"
      }
    },
    {
      "cell_type": "markdown",
      "source": [
        "### CART"
      ],
      "metadata": {
        "id": "atu6xPqyJp95"
      }
    },
    {
      "cell_type": "code",
      "source": [
        "if (!require(rpart)) install.packages('rpart')\n",
        "library(rpart)\n",
        "\n",
        "if (!require(rpart.plot)) install.packages('rpart.plot')\n",
        "library(rpart.plot)"
      ],
      "metadata": {
        "id": "MmYhfxsg785K",
        "colab": {
          "base_uri": "https://localhost:8080/"
        },
        "outputId": "6a0ca5e4-6e75-4bb4-fc79-88d0b35029b2"
      },
      "execution_count": null,
      "outputs": [
        {
          "output_type": "stream",
          "name": "stderr",
          "text": [
            "Loading required package: rpart\n",
            "\n",
            "Loading required package: rpart.plot\n",
            "\n",
            "Warning message in library(package, lib.loc = lib.loc, character.only = TRUE, logical.return = TRUE, :\n",
            "“there is no package called ‘rpart.plot’”\n",
            "Installing package into ‘/usr/local/lib/R/site-library’\n",
            "(as ‘lib’ is unspecified)\n",
            "\n"
          ]
        }
      ]
    },
    {
      "cell_type": "code",
      "source": [
        "set.seed(2121)\n",
        "\n",
        "(german_dt_fit <- train(g_formula, data = german_train, method = 'rpart', \n",
        "                      parms = list(split = 'information'), \n",
        "                      control = rpart.control(minsplit = 7), \n",
        "                      trControl = trainControl(method = 'repeatedcv', number = 70, repeats = 5),\n",
        "                      tuneLength = 30))"
      ],
      "metadata": {
        "id": "eBlWyIkoK07a",
        "colab": {
          "base_uri": "https://localhost:8080/",
          "height": 798
        },
        "outputId": "a096ce15-89a4-4e54-97c5-75d9b6e2f4ef"
      },
      "execution_count": null,
      "outputs": [
        {
          "output_type": "display_data",
          "data": {
            "text/plain": [
              "CART \n",
              "\n",
              "700 samples\n",
              "  5 predictor\n",
              "  2 classes: '1', '2' \n",
              "\n",
              "No pre-processing\n",
              "Resampling: Cross-Validated (70 fold, repeated 5 times) \n",
              "Summary of sample sizes: 690, 690, 690, 690, 690, 690, ... \n",
              "Resampling results across tuning parameters:\n",
              "\n",
              "  cp           Accuracy   Kappa        \n",
              "  0.000000000  0.6868571   0.2298934408\n",
              "  0.001724138  0.6957143   0.2417490674\n",
              "  0.003448276  0.7137143   0.2771239958\n",
              "  0.005172414  0.7257143   0.2860257162\n",
              "  0.006896552  0.7228571   0.2633839544\n",
              "  0.008620690  0.7274286   0.2619695560\n",
              "  0.010344828  0.7162857   0.2282102627\n",
              "  0.012068966  0.7177143   0.2272618965\n",
              "  0.013793103  0.7165714   0.2168456215\n",
              "  0.015517241  0.6931429   0.1509957283\n",
              "  0.017241379  0.6897143   0.1349478775\n",
              "  0.018965517  0.6877143   0.1276897432\n",
              "  0.020689655  0.6880000   0.1121485116\n",
              "  0.022413793  0.6948571   0.1192830890\n",
              "  0.024137931  0.6982857   0.1240176144\n",
              "  0.025862069  0.7014286   0.1234153085\n",
              "  0.027586207  0.6942857   0.0937174064\n",
              "  0.029310345  0.6837143   0.0473586194\n",
              "  0.031034483  0.6831429   0.0450056782\n",
              "  0.032758621  0.6817143   0.0309965268\n",
              "  0.034482759  0.6828571   0.0247235553\n",
              "  0.036206897  0.6828571   0.0247235553\n",
              "  0.037931034  0.6837143   0.0189692536\n",
              "  0.039655172  0.6825714   0.0146492098\n",
              "  0.041379310  0.6791429  -0.0022667374\n",
              "  0.043103448  0.6791429  -0.0022667374\n",
              "  0.044827586  0.6842857  -0.0002575859\n",
              "  0.046551724  0.6897143   0.0081192385\n",
              "  0.048275862  0.6897143   0.0081192385\n",
              "  0.050000000  0.6851429  -0.0154169128\n",
              "\n",
              "Accuracy was used to select the optimal model using the largest value.\n",
              "The final value used for the model was cp = 0.00862069."
            ]
          },
          "metadata": {}
        }
      ]
    },
    {
      "cell_type": "code",
      "source": [
        "(gcp <- german_dt_fit$bestTune$cp)"
      ],
      "metadata": {
        "id": "V-q0scXbER6F",
        "colab": {
          "base_uri": "https://localhost:8080/",
          "height": 34
        },
        "outputId": "1f55b052-c84f-4290-a22a-73c17b08904d"
      },
      "execution_count": null,
      "outputs": [
        {
          "output_type": "display_data",
          "data": {
            "text/html": [
              "0.00862068965517242"
            ],
            "text/markdown": "0.00862068965517242",
            "text/latex": "0.00862068965517242",
            "text/plain": [
              "[1] 0.00862069"
            ]
          },
          "metadata": {}
        }
      ]
    },
    {
      "cell_type": "code",
      "source": [
        "prp(german_dt_fit$finalModel, box.palette = 'Reds', tweak = 1.2)"
      ],
      "metadata": {
        "id": "o9e33vViK0-U",
        "colab": {
          "base_uri": "https://localhost:8080/",
          "height": 437
        },
        "outputId": "0fb4ba1e-b4e0-4e55-9adc-8eb19daeb2a0"
      },
      "execution_count": null,
      "outputs": [
        {
          "output_type": "display_data",
          "data": {
            "text/plain": [
              "plot without title"
            ],
            "image/png": "[encoded data removed]"
          },
          "metadata": {
            "image/png": {
              "width": 420,
              "height": 420
            }
          }
        }
      ]
    },
    {
      "cell_type": "code",
      "source": [
        "german_dt_fit$finalModel"
      ],
      "metadata": {
        "id": "EYvwa-tlKQ9m",
        "colab": {
          "base_uri": "https://localhost:8080/",
          "height": 850
        },
        "outputId": "121aa149-c4f3-4415-aa59-ae858ffca09a"
      },
      "execution_count": null,
      "outputs": [
        {
          "output_type": "display_data",
          "data": {
            "text/plain": [
              "n= 700 \n",
              "\n",
              "node), split, n, loss, yval, (yprob)\n",
              "      * denotes terminal node\n",
              "\n",
              "  1) root 700 210 1 (0.70000000 0.30000000)  \n",
              "    2) V14>=0.5 269  33 1 (0.87732342 0.12267658) *\n",
              "    3) V14< 0.5 431 177 1 (0.58932715 0.41067285)  \n",
              "      6) V2< 0.1324342 247  79 1 (0.68016194 0.31983806)  \n",
              "       12) V31< 0.5 232  68 1 (0.70689655 0.29310345)  \n",
              "         24) V5< -0.9215375 14   0 1 (1.00000000 0.00000000) *\n",
              "         25) V5>=-0.9215375 218  68 1 (0.68807339 0.31192661)  \n",
              "           50) V5>=-0.8118922 193  52 1 (0.73056995 0.26943005)  \n",
              "            100) V5< 1.931899 190  49 1 (0.74210526 0.25789474) *\n",
              "            101) V5>=1.931899 3   0 2 (0.00000000 1.00000000) *\n",
              "           51) V5< -0.8118922 25   9 2 (0.36000000 0.64000000)  \n",
              "            102) V2< -1.028542 4   0 1 (1.00000000 0.00000000) *\n",
              "            103) V2>=-1.028542 21   5 2 (0.23809524 0.76190476)  \n",
              "              206) V34>=0.5 4   1 1 (0.75000000 0.25000000) *\n",
              "              207) V34< 0.5 17   2 2 (0.11764706 0.88235294) *\n",
              "       13) V31>=0.5 15   4 2 (0.26666667 0.73333333)  \n",
              "         26) V5< -1.00975 2   0 1 (1.00000000 0.00000000) *\n",
              "         27) V5>=-1.00975 13   2 2 (0.15384615 0.84615385) *\n",
              "      7) V2>=0.1324342 184  86 2 (0.46739130 0.53260870)  \n",
              "       14) V2< 1.873899 152  73 1 (0.51973684 0.48026316)  \n",
              "         28) V5>=-0.3621514 116  48 1 (0.58620690 0.41379310)  \n",
              "           56) V5< 1.680724 99  36 1 (0.63636364 0.36363636)  \n",
              "            112) V65>=0.5 14   1 1 (0.92857143 0.07142857) *\n",
              "            113) V65< 0.5 85  35 1 (0.58823529 0.41176471)  \n",
              "              226) V5>=0.7196002 19   3 1 (0.84210526 0.15789474) *\n",
              "              227) V5< 0.7196002 66  32 1 (0.51515152 0.48484848)  \n",
              "                454) V5< 0.2447065 43  17 1 (0.60465116 0.39534884) *\n",
              "                455) V5>=0.2447065 23   8 2 (0.34782609 0.65217391)  \n",
              "                  910) V13>=0.5 4   1 1 (0.75000000 0.25000000) *\n",
              "                  911) V13< 0.5 19   5 2 (0.26315789 0.73684211) *\n",
              "           57) V5>=1.680724 17   5 2 (0.29411765 0.70588235)  \n",
              "            114) V2>=1.376338 3   0 1 (1.00000000 0.00000000) *\n",
              "            115) V2< 1.376338 14   2 2 (0.14285714 0.85714286) *\n",
              "         29) V5< -0.3621514 36  11 2 (0.30555556 0.69444444)  \n",
              "           58) V13>=0.5 6   2 1 (0.66666667 0.33333333) *\n",
              "           59) V13< 0.5 30   7 2 (0.23333333 0.76666667)  \n",
              "            118) V5>=-0.6694772 19   7 2 (0.36842105 0.63157895)  \n",
              "              236) V5< -0.5251138 7   1 1 (0.85714286 0.14285714) *\n",
              "              237) V5>=-0.5251138 12   1 2 (0.08333333 0.91666667) *\n",
              "            119) V5< -0.6694772 11   0 2 (0.00000000 1.00000000) *\n",
              "       15) V2>=1.873899 32   7 2 (0.21875000 0.78125000)  \n",
              "         30) V65>=0.5 4   0 1 (1.00000000 0.00000000) *\n",
              "         31) V65< 0.5 28   3 2 (0.10714286 0.89285714) *"
            ]
          },
          "metadata": {}
        }
      ]
    },
    {
      "cell_type": "code",
      "source": [
        "set.seed(2121)\n",
        "(cancer_dtree_fit <- train(c_formula, data = cancer_train, method = 'rpart',\n",
        "                          parms = list(split = 'information'),\n",
        "                          control = rpart.control(minsplit = 7),\n",
        "                          trControl = trainControl(method = 'repeatedcv', number = 19, repeats = 5),\n",
        "                          tuneLength = 30))"
      ],
      "metadata": {
        "id": "V5iBSSetPlW9",
        "colab": {
          "base_uri": "https://localhost:8080/",
          "height": 798
        },
        "outputId": "c609c3b2-f712-4671-830b-fb828295d1d1"
      },
      "execution_count": null,
      "outputs": [
        {
          "output_type": "display_data",
          "data": {
            "text/plain": [
              "CART \n",
              "\n",
              "191 samples\n",
              "  5 predictor\n",
              "  2 classes: 'no-recurrence-events', 'recurrence-events' \n",
              "\n",
              "No pre-processing\n",
              "Resampling: Cross-Validated (19 fold, repeated 5 times) \n",
              "Summary of sample sizes: 181, 181, 181, 181, 181, 181, ... \n",
              "Resampling results across tuning parameters:\n",
              "\n",
              "  cp           Accuracy   Kappa       \n",
              "  0.000000000  0.6663158   0.111309192\n",
              "  0.002419843  0.6663158   0.111309192\n",
              "  0.004839685  0.6632536   0.098511647\n",
              "  0.007259528  0.6590431   0.082062933\n",
              "  0.009679371  0.6808612   0.111518397\n",
              "  0.012099214  0.6829665   0.115085667\n",
              "  0.014519056  0.7017225   0.147276902\n",
              "  0.016938899  0.7027751   0.147110582\n",
              "  0.019358742  0.7414354   0.241879163\n",
              "  0.021778584  0.7414354   0.241879163\n",
              "  0.024198427  0.7414354   0.241879163\n",
              "  0.026618270  0.7414354   0.241879163\n",
              "  0.029038113  0.7403828   0.234286956\n",
              "  0.031457955  0.7257416   0.175711725\n",
              "  0.033877798  0.7257416   0.175711725\n",
              "  0.036297641  0.7257416   0.175711725\n",
              "  0.038717483  0.7024880   0.075046817\n",
              "  0.041137326  0.7024880   0.075046817\n",
              "  0.043557169  0.7024880   0.075046817\n",
              "  0.045977011  0.7024880   0.075046817\n",
              "  0.048396854  0.6878469   0.013088516\n",
              "  0.050816697  0.6815311  -0.009739182\n",
              "  0.053236540  0.6815311  -0.009739182\n",
              "  0.055656382  0.6825837  -0.029850100\n",
              "  0.058076225  0.6825837  -0.029850100\n",
              "  0.060496068  0.6825837  -0.029850100\n",
              "  0.062915910  0.6919617  -0.013327369\n",
              "  0.065335753  0.6919617  -0.013327369\n",
              "  0.067755596  0.6919617  -0.013327369\n",
              "  0.070175439  0.6919617  -0.013327369\n",
              "\n",
              "Accuracy was used to select the optimal model using the largest value.\n",
              "The final value used for the model was cp = 0.02661827."
            ]
          },
          "metadata": {}
        }
      ]
    },
    {
      "cell_type": "code",
      "source": [
        "(ccp <- cancer_dtree_fit$bestTune$cp)"
      ],
      "metadata": {
        "id": "ZfO-Zp13Fajn",
        "colab": {
          "base_uri": "https://localhost:8080/",
          "height": 34
        },
        "outputId": "e24faaf7-cfce-4a65-8eb5-25bf308d1c00"
      },
      "execution_count": null,
      "outputs": [
        {
          "output_type": "display_data",
          "data": {
            "text/html": [
              "0.0266182698124622"
            ],
            "text/markdown": "0.0266182698124622",
            "text/latex": "0.0266182698124622",
            "text/plain": [
              "[1] 0.02661827"
            ]
          },
          "metadata": {}
        }
      ]
    },
    {
      "cell_type": "code",
      "source": [
        "prp(cancer_dtree_fit$finalModel, box.palette = 'Reds', tweak = 1.2)"
      ],
      "metadata": {
        "id": "JQ8RZLkCS1iU",
        "colab": {
          "base_uri": "https://localhost:8080/",
          "height": 437
        },
        "outputId": "0a0cf62e-3e8c-4a48-efb8-ed867d79422f"
      },
      "execution_count": null,
      "outputs": [
        {
          "output_type": "display_data",
          "data": {
            "text/plain": [
              "plot without title"
            ],
            "image/png": "[encoded data removed]"
          },
          "metadata": {
            "image/png": {
              "width": 420,
              "height": 420
            }
          }
        }
      ]
    },
    {
      "cell_type": "code",
      "source": [
        "cancer_dtree_fit$finalModel"
      ],
      "metadata": {
        "id": "vZjDp9K4KnQR",
        "colab": {
          "base_uri": "https://localhost:8080/",
          "height": 260
        },
        "outputId": "1c98648d-17a8-48d2-e398-5586ac2bc488"
      },
      "execution_count": null,
      "outputs": [
        {
          "output_type": "display_data",
          "data": {
            "text/plain": [
              "n= 191 \n",
              "\n",
              "node), split, n, loss, yval, (yprob)\n",
              "      * denotes terminal node\n",
              "\n",
              " 1) root 191 57 no-recurrence-events (0.7015707 0.2984293)  \n",
              "   2) Deg.Malig3< 0.5 142 32 no-recurrence-events (0.7746479 0.2253521) *\n",
              "   3) Deg.Malig3>=0.5 49 24 recurrence-events (0.4897959 0.5102041)  \n",
              "     6) Inv.Nodes6-8< 0.5 43 19 no-recurrence-events (0.5581395 0.4418605)  \n",
              "      12) Tumor.Size25-29< 0.5 34 13 no-recurrence-events (0.6176471 0.3823529)  \n",
              "        24) Node.CapsTRUE< 0.5 25  7 no-recurrence-events (0.7200000 0.2800000) *\n",
              "        25) Node.CapsTRUE>=0.5 9  3 recurrence-events (0.3333333 0.6666667) *\n",
              "      13) Tumor.Size25-29>=0.5 9  3 recurrence-events (0.3333333 0.6666667) *\n",
              "     7) Inv.Nodes6-8>=0.5 6  0 recurrence-events (0.0000000 1.0000000) *"
            ]
          },
          "metadata": {}
        }
      ]
    },
    {
      "cell_type": "markdown",
      "source": [
        "### PART"
      ],
      "metadata": {
        "id": "cfObRw10Jsjp"
      }
    },
    {
      "cell_type": "code",
      "source": [
        "if (!require(RWeka)) install.packages('RWeka')\n",
        "library(RWeka)"
      ],
      "metadata": {
        "id": "cufBVWZWJwUn",
        "colab": {
          "base_uri": "https://localhost:8080/"
        },
        "outputId": "86b03089-52ec-49d7-e12f-414f9ada4f30"
      },
      "execution_count": null,
      "outputs": [
        {
          "output_type": "stream",
          "name": "stderr",
          "text": [
            "Loading required package: RWeka\n",
            "\n"
          ]
        }
      ]
    },
    {
      "cell_type": "code",
      "source": [
        "set.seed(2121)\n",
        "\n",
        "(g_rulesFit <- train(g_formula, \n",
        "                    method = \"PART\", \n",
        "                    data = german_train,\n",
        "                    tuneLength = 10, \n",
        "                    trControl = trainControl(method = \"cv\", number = 70)))"
      ],
      "metadata": {
        "id": "9D27vOxzPI1P",
        "colab": {
          "base_uri": "https://localhost:8080/",
          "height": 625
        },
        "outputId": "cf7b93b4-98c8-48ff-ffe3-c140618a68a9"
      },
      "execution_count": null,
      "outputs": [
        {
          "output_type": "display_data",
          "data": {
            "text/plain": [
              "Rule-Based Classifier \n",
              "\n",
              "700 samples\n",
              "  5 predictor\n",
              "  2 classes: '1', '2' \n",
              "\n",
              "No pre-processing\n",
              "Resampling: Cross-Validated (70 fold) \n",
              "Summary of sample sizes: 690, 690, 690, 690, 690, 690, ... \n",
              "Resampling results across tuning parameters:\n",
              "\n",
              "  threshold   pruned  Accuracy   Kappa    \n",
              "  0.01000000  yes     0.7314286  0.3034067\n",
              "  0.01000000  no      0.7257143  0.2893249\n",
              "  0.06444444  yes     0.7357143  0.3142077\n",
              "  0.06444444  no      0.7257143  0.2893249\n",
              "  0.11888889  yes     0.7357143  0.3122533\n",
              "  0.11888889  no      0.7257143  0.2893249\n",
              "  0.17333333  yes     0.7385714  0.3386976\n",
              "  0.17333333  no      0.7257143  0.2893249\n",
              "  0.22777778  yes     0.7414286  0.3455460\n",
              "  0.22777778  no      0.7257143  0.2893249\n",
              "  0.28222222  yes     0.7414286  0.3509541\n",
              "  0.28222222  no      0.7257143  0.2893249\n",
              "  0.33666667  yes     0.7414286  0.3476125\n",
              "  0.33666667  no      0.7257143  0.2893249\n",
              "  0.39111111  yes     0.7414286  0.3476125\n",
              "  0.39111111  no      0.7257143  0.2893249\n",
              "  0.44555556  yes     0.7400000  0.3420839\n",
              "  0.44555556  no      0.7257143  0.2893249\n",
              "  0.50000000  yes     0.7400000  0.3420839\n",
              "  0.50000000  no      0.7257143  0.2893249\n",
              "\n",
              "Accuracy was used to select the optimal model using the largest value.\n",
              "The final values used for the model were threshold = 0.3911111 and pruned = yes."
            ]
          },
          "metadata": {}
        }
      ]
    },
    {
      "cell_type": "code",
      "source": [
        "gpruned <- g_rulesFit$bestTune$pruned\n",
        "gthresh <- g_rulesFit$bestTune$threshold\n",
        "\n",
        "g_rulesFit$finalModel"
      ],
      "metadata": {
        "id": "_Tm5l3kPRKbo",
        "colab": {
          "base_uri": "https://localhost:8080/",
          "height": 1000
        },
        "outputId": "fee5e51c-3594-45d7-e7af-67f0cf7fda46"
      },
      "execution_count": null,
      "outputs": [
        {
          "output_type": "display_data",
          "data": {
            "text/plain": [
              "PART decision list\n",
              "------------------\n",
              "\n",
              "V14 > 0 AND\n",
              "V34 > 0: 1 (106.0/8.0)\n",
              "\n",
              "V14 > 0 AND\n",
              "V62 <= 0 AND\n",
              "V32 > 0 AND\n",
              "V65 <= 0 AND\n",
              "V63 <= 0 AND\n",
              "V2 <= 0.256825: 1 (58.0/8.0)\n",
              "\n",
              "V14 > 0 AND\n",
              "V31 <= 0 AND\n",
              "V65 > 0: 1 (38.0/3.0)\n",
              "\n",
              "V63 > 0 AND\n",
              "V13 <= 0 AND\n",
              "V14 > 0: 1 (22.0/3.0)\n",
              "\n",
              "V64 > 0: 1 (24.0/4.0)\n",
              "\n",
              "V31 <= 0 AND\n",
              "V2 <= -0.489517 AND\n",
              "V14 <= 0 AND\n",
              "V34 > 0 AND\n",
              "V12 <= 0 AND\n",
              "V5 <= -0.364985: 1 (22.0/1.0)\n",
              "\n",
              "V14 > 0 AND\n",
              "V62 <= 0 AND\n",
              "V32 <= 0: 1 (21.0/6.0)\n",
              "\n",
              "V14 > 0 AND\n",
              "V62 > 0: 1 (16.0/1.0)\n",
              "\n",
              "V2 > 1.749509 AND\n",
              "V65 <= 0 AND\n",
              "V14 <= 0 AND\n",
              "V62 <= 0: 2 (20.0/1.0)\n",
              "\n",
              "V31 > 0 AND\n",
              "V12 <= 0: 2 (17.0/5.0)\n",
              "\n",
              "V13 > 0 AND\n",
              "V32 > 0: 1 (23.0/3.0)\n",
              "\n",
              "V65 > 0 AND\n",
              "V33 <= 0 AND\n",
              "V12 > 0 AND\n",
              "V32 > 0 AND\n",
              "V5 <= 2.513427: 1 (20.0/3.0)\n",
              "\n",
              "V12 > 0 AND\n",
              "V65 > 0 AND\n",
              "V32 <= 0: 1 (12.0)\n",
              "\n",
              "V2 <= 0.090971 AND\n",
              "V12 > 0 AND\n",
              "V62 <= 0 AND\n",
              "V34 > 0 AND\n",
              "V2 <= -0.406591: 1 (8.0)\n",
              "\n",
              "V12 > 0 AND\n",
              "V31 <= 0 AND\n",
              "V2 <= 0.090971 AND\n",
              "V62 <= 0 AND\n",
              "V34 <= 0: 1 (48.0/12.0)\n",
              "\n",
              "V34 > 0 AND\n",
              "V62 <= 0 AND\n",
              "V65 <= 0 AND\n",
              "V12 > 0 AND\n",
              "V5 > -0.711103 AND\n",
              "V2 <= 0.505605: 1 (7.0)\n",
              "\n",
              "V65 <= 0 AND\n",
              "V32 <= 0 AND\n",
              "V62 <= 0 AND\n",
              "V13 <= 0 AND\n",
              "V31 <= 0 AND\n",
              "V34 <= 0 AND\n",
              "V12 <= 0 AND\n",
              "V33 > 0 AND\n",
              "V2 > -0.240737: 2 (7.0)\n",
              "\n",
              "V33 > 0 AND\n",
              "V2 > 0.008044 AND\n",
              "V5 > -0.323182: 1 (10.0/2.0)\n",
              "\n",
              "V12 > 0 AND\n",
              "V33 <= 0 AND\n",
              "V62 <= 0 AND\n",
              "V34 <= 0 AND\n",
              "V2 <= 0.256825: 2 (11.0/2.0)\n",
              "\n",
              "V12 > 0 AND\n",
              "V33 <= 0 AND\n",
              "V5 <= -0.667174: 2 (7.0)\n",
              "\n",
              "V34 > 0 AND\n",
              "V62 <= 0 AND\n",
              "V65 <= 0: 2 (30.0/13.0)\n",
              "\n",
              "V34 <= 0 AND\n",
              "V62 > 0 AND\n",
              "V12 > 0 AND\n",
              "V2 <= 0.505605: 1 (14.0/5.0)\n",
              "\n",
              "V34 <= 0 AND\n",
              "V62 > 0: 2 (15.0/2.0)\n",
              "\n",
              "V34 > 0: 1 (10.0/1.0)\n",
              "\n",
              "V32 <= 0 AND\n",
              "V33 <= 0 AND\n",
              "V2 <= -0.406591: 2 (5.0)\n",
              "\n",
              "V2 <= -0.406591 AND\n",
              "V32 > 0 AND\n",
              "V63 <= 0 AND\n",
              "V5 <= -0.245598: 1 (29.0/6.0)\n",
              "\n",
              "V33 > 0 AND\n",
              "V2 <= 0.008044: 1 (5.0)\n",
              "\n",
              "V5 <= -0.634582: 2 (10.0)\n",
              "\n",
              "V32 <= 0 AND\n",
              "V33 <= 0 AND\n",
              "V12 > 0 AND\n",
              "V5 > 0.260294: 1 (3.0/1.0)\n",
              "\n",
              "V32 <= 0: 2 (9.0/2.0)\n",
              "\n",
              "V12 > 0 AND\n",
              "V5 <= 1.892398: 1 (9.0/2.0)\n",
              "\n",
              "V14 > 0 AND\n",
              "V5 > 0.062614: 1 (3.0/1.0)\n",
              "\n",
              "V65 <= 0: 2 (53.0/23.0)\n",
              "\n",
              "V2 <= 0.754386: 1 (5.0/1.0)\n",
              "\n",
              ": 2 (3.0)\n",
              "\n",
              "Number of Rules  : \t35\n"
            ]
          },
          "metadata": {}
        }
      ]
    },
    {
      "cell_type": "code",
      "source": [
        "set.seed(2121)\n",
        "\n",
        "(c_rulesFit <- train(c_formula, \n",
        "                    method = \"PART\", \n",
        "                    data = cancer_train,\n",
        "                    tuneLength = 10, \n",
        "                    trControl = trainControl(method = \"cv\", number = 19)))"
      ],
      "metadata": {
        "id": "bV-2Co0ORXGa",
        "colab": {
          "base_uri": "https://localhost:8080/",
          "height": 625
        },
        "outputId": "53a463f8-7789-4da1-de9b-1c6dddeedf2c"
      },
      "execution_count": null,
      "outputs": [
        {
          "output_type": "display_data",
          "data": {
            "text/plain": [
              "Rule-Based Classifier \n",
              "\n",
              "191 samples\n",
              "  5 predictor\n",
              "  2 classes: 'no-recurrence-events', 'recurrence-events' \n",
              "\n",
              "No pre-processing\n",
              "Resampling: Cross-Validated (19 fold) \n",
              "Summary of sample sizes: 181, 181, 181, 181, 181, 181, ... \n",
              "Resampling results across tuning parameters:\n",
              "\n",
              "  threshold   pruned  Accuracy   Kappa    \n",
              "  0.01000000  yes     0.6961722  0.1270082\n",
              "  0.01000000  no      0.7057416  0.1721239\n",
              "  0.06444444  yes     0.7014354  0.1075246\n",
              "  0.06444444  no      0.7057416  0.1721239\n",
              "  0.11888889  yes     0.7119617  0.1450021\n",
              "  0.11888889  no      0.7057416  0.1721239\n",
              "  0.17333333  yes     0.7224880  0.1837833\n",
              "  0.17333333  no      0.7057416  0.1721239\n",
              "  0.22777778  yes     0.6956938  0.1308379\n",
              "  0.22777778  no      0.7057416  0.1721239\n",
              "  0.28222222  yes     0.6904306  0.1569304\n",
              "  0.28222222  no      0.7057416  0.1721239\n",
              "  0.33666667  yes     0.6904306  0.1569304\n",
              "  0.33666667  no      0.7057416  0.1721239\n",
              "  0.39111111  yes     0.6904306  0.1569304\n",
              "  0.39111111  no      0.7057416  0.1721239\n",
              "  0.44555556  yes     0.6904306  0.1569304\n",
              "  0.44555556  no      0.7057416  0.1721239\n",
              "  0.50000000  yes     0.6904306  0.1569304\n",
              "  0.50000000  no      0.7057416  0.1721239\n",
              "\n",
              "Accuracy was used to select the optimal model using the largest value.\n",
              "The final values used for the model were threshold = 0.1733333 and pruned = yes."
            ]
          },
          "metadata": {}
        }
      ]
    },
    {
      "cell_type": "code",
      "source": [
        "cpruned <- c_rulesFit$bestTune$pruned\n",
        "cthresh <- c_rulesFit$bestTune$threshold\n",
        "\n",
        "c_rulesFit$finalModel"
      ],
      "metadata": {
        "id": "yZQGL1LtRXI-",
        "colab": {
          "base_uri": "https://localhost:8080/",
          "height": 694
        },
        "outputId": "f3e66fb8-e65e-4629-a502-ac5c59835846"
      },
      "execution_count": null,
      "outputs": [
        {
          "output_type": "display_data",
          "data": {
            "text/plain": [
              "PART decision list\n",
              "------------------\n",
              "\n",
              "Tumor.Size10-14 <= 0 AND\n",
              "Deg.Malig3 <= 0 AND\n",
              "Tumor.Size25-29 <= 0 AND\n",
              "Inv.Nodes9-11 <= 0: no-recurrence-events (94.0/26.0)\n",
              "\n",
              "Inv.Nodes6-8 <= 0 AND\n",
              "Tumor.Size10-14 <= 0 AND\n",
              "Deg.Malig3 <= 0 AND\n",
              "Tumor.Size25-29 > 0: no-recurrence-events (26.0/3.0)\n",
              "\n",
              "Tumor.Size10-14 > 0: no-recurrence-events (16.0)\n",
              "\n",
              "Inv.Nodes6-8 <= 0 AND\n",
              "Tumor.Size25-29 <= 0 AND\n",
              "Node.CapsTRUE <= 0 AND\n",
              "Deg.Malig3 > 0 AND\n",
              "Tumor.Size40-44 <= 0 AND\n",
              "Tumor.Size15-19 <= 0 AND\n",
              "Inv.Nodes9-11 <= 0 AND\n",
              "IrradiatTRUE <= 0: no-recurrence-events (14.0/4.0)\n",
              "\n",
              "Inv.Nodes6-8 > 0: recurrence-events (7.0/1.0)\n",
              "\n",
              "Tumor.Size40-44 <= 0 AND\n",
              "Tumor.Size35-39 > 0 AND\n",
              "IrradiatTRUE > 0: no-recurrence-events (4.0)\n",
              "\n",
              "Deg.Malig3 > 0 AND\n",
              "Tumor.Size35-39 <= 0 AND\n",
              "Tumor.Size40-44 <= 0: recurrence-events (21.0/9.0)\n",
              "\n",
              "Tumor.Size40-44 <= 0: recurrence-events (5.0)\n",
              "\n",
              ": no-recurrence-events (4.0/1.0)\n",
              "\n",
              "Number of Rules  : \t9\n"
            ]
          },
          "metadata": {}
        }
      ]
    },
    {
      "cell_type": "markdown",
      "source": [
        "#Task 3 code\n"
      ],
      "metadata": {
        "id": "heAGyVPa8KMo"
      }
    },
    {
      "cell_type": "code",
      "source": [
        "german_acc <- data.frame(matrix(ncol = 2, nrow = 0))\n",
        "colnames(german_acc) <- c('CART', 'PART')\n",
        "cancer_acc <- data.frame(matrix(ncol = 2, nrow = 0))\n",
        "colnames(cancer_acc) <- c('CART', 'PART')\n",
        "\n",
        "g_cart <- NULL\n",
        "c_cart <- NULL\n",
        "g_part <- NULL\n",
        "c_part <- NULL\n",
        "\n",
        "set.seed(1010)\n",
        "for (i in 1:100) {\n",
        "  # Split each dataset\n",
        "  trainIndex <- createDataPartition(y = german$V21, p=0.7, list=FALSE)\n",
        "  if (i == 1) g_train <- german[trainIndex,]\n",
        "  g_test <- german[-trainIndex,]\n",
        "\n",
        "  trainIndex <- createDataPartition(y = cancer$Class, p=0.7, list=FALSE)\n",
        "  if (i == 1) c_train <- cancer[trainIndex,]\n",
        "  c_test <- cancer[-trainIndex,]\n",
        "\n",
        "  # Fit models on initial run\n",
        "  if (i == 1) {\n",
        "    g_cart <- rpart(formula = g_formula, data = g_train, control = rpart.control(cp=gcp, minsplit=7), parms = list(split = 'information'))\n",
        "    c_cart <- rpart(formula = c_formula, data = c_train, control = rpart.control(cp=ccp, minsplit=7), parms = list(split = 'information'))\n",
        "\n",
        "    g_part <- PART(g_formula, data = g_train, control = Weka_control(prune=gpruned, thresholder=gthresh))\n",
        "    c_part <- PART(c_formula, data = c_train, control = Weka_control(prune=cpruned, thresholder=cthresh))\n",
        "  }\n",
        "\n",
        "  # Get predictions for all 4 models\n",
        "  g_cart_pred <- predict(g_cart, newdata = g_test, type='class')\n",
        "  c_cart_pred <- predict(c_cart, newdata = c_test, type='class')\n",
        "\n",
        "  g_part_pred <- predict(g_part, newdata = g_test, type='class')\n",
        "  c_part_pred <- predict(c_part, newdata = c_test, type='class')\n",
        "\n",
        "  # Statistics\n",
        "  gc_acc <- confusionMatrix(g_cart_pred, g_test$V21)$overall[1]\n",
        "  cc_acc <- confusionMatrix(c_cart_pred, c_test$Class)$overall[1]\n",
        "\n",
        "  gp_acc <- confusionMatrix(g_part_pred, g_test$V21)$overall[1]\n",
        "  cp_acc <- confusionMatrix(c_part_pred, c_test$Class)$overall[1]\n",
        "\n",
        "  # Record Accuracies\n",
        "  german_acc[i, ] <- c(gc_acc, gp_acc)\n",
        "  cancer_acc[i, ] <- c(cc_acc, cp_acc)\n",
        "}"
      ],
      "metadata": {
        "id": "rp-0KGDh8dow"
      },
      "execution_count": null,
      "outputs": []
    },
    {
      "cell_type": "code",
      "source": [
        "# F Test\n",
        "FTest_G <- (var(german_acc[1]) / var(german_acc[2]))[1]\n",
        "FTest_C <- (var(cancer_acc[1]) / var(cancer_acc[2]))[1]\n",
        "\n",
        "cat('Variance across CART/PART for German dataset:', FTest_G, '\\n')\n",
        "cat('Variance across CART/PART for Cancer dataset:', FTest_C)"
      ],
      "metadata": {
        "id": "CqRwlALADlrZ",
        "colab": {
          "base_uri": "https://localhost:8080/"
        },
        "outputId": "823a337d-7a83-4645-c2dd-68027955724b"
      },
      "execution_count": null,
      "outputs": [
        {
          "output_type": "stream",
          "name": "stdout",
          "text": [
            "Variance across CART/PART for German dataset: 0.7255058 \n",
            "Variance across CART/PART for Cancer dataset: 1.475855"
          ]
        }
      ]
    },
    {
      "cell_type": "markdown",
      "source": [
        "#Task 4 code"
      ],
      "metadata": {
        "id": "-O02UjNJ8KO1"
      }
    },
    {
      "cell_type": "code",
      "source": [
        "# Initialize the models\n",
        "\n",
        "trainIndex <- createDataPartition(y = german$V21, p=0.7, list=FALSE)\n",
        "g_train <- german[trainIndex,]\n",
        "\n",
        "#trainIndex <- createDataPartition(y = cancer$Class, p=0.7, list=FALSE)\n",
        "#c_train <- cancer[trainIndex,]\n",
        "\n",
        "g_cart <- rpart(formula = g_formula, data = g_train, control = rpart.control(cp=gcp, minsplit=7), parms = list(split = 'information'))\n",
        "#c_cart <- rpart(formula = c_formula, data = c_train, control = rpart.control(cp=ccp, minsplit=7), parms = list(split = 'information'))\n",
        "\n",
        "g_part <- PART(g_formula, data = g_train, control = Weka_control(prune=gpruned, thresholder=gthresh))\n",
        "#c_part <- PART(c_formula, data = c_train, control = Weka_control(prune=cpruned, thresholder=cthresh))\n",
        "\n",
        "for (i in 1:3) {\n",
        "  german_acc <- data.frame(matrix(ncol = 2, nrow = 0))\n",
        "  colnames(german_acc) <- c('CART', 'PART')\n",
        "  #cancer_acc <- data.frame(matrix(ncol = 2, nrow = 0))\n",
        "  #colnames(cancer_acc) <- c('CART', 'PART')\n",
        "\n",
        "  level <- i * .10\n",
        "\n",
        "  for (j in 1:100) {\n",
        "    # Split each dataset\n",
        "    testIndex <- createDataPartition(y = german$V21, p=0.3, list=FALSE)\n",
        "    g_test <- german[testIndex,]\n",
        "\n",
        "    #testIndex <- createDataPartition(y = cancer$Class, p=0.3, list=FALSE)\n",
        "    #c_test <- cancer[testIndex,]\n",
        "\n",
        "    # Find mean\n",
        "    g_mean <- mean(german$V2)\n",
        "    #c_mean <- NULL\n",
        "\n",
        "    # Create altered data \n",
        "    g_alt <- g_test\n",
        "    g_alt %>% mutate(V2 == ifelse(V2 <= g_mean, V2 + level * V2, V2 - level * V2))\n",
        "\n",
        "    # Predict using altered data \n",
        "    # Get predictions for all 4 models\n",
        "    g_cart_pred <- predict(g_cart, newdata = g_alt, type='class')\n",
        "    #c_cart_pred <- predict(c_cart, newdata = c_test, type='class')\n",
        "\n",
        "    g_part_pred <- predict(g_part, newdata = g_alt, type='class')\n",
        "    #c_part_pred <- predict(c_part, newdata = c_test, type='class')\n",
        "\n",
        "    # Statistics\n",
        "    gc_acc <- confusionMatrix(g_cart_pred, g_alt$V21)$overall[1]\n",
        "    #cc_acc <- confusionMatrix(c_cart_pred, c_test$Class)$overall[1]\n",
        "\n",
        "    gp_acc <- confusionMatrix(g_part_pred, g_alt$V21)$overall[1]\n",
        "    #cp_acc <- confusionMatrix(c_part_pred, c_test$Class)$overall[1]\n",
        "\n",
        "    # Record Accuracies\n",
        "    german_acc[j, ] <- c(gc_acc, gp_acc)\n",
        "    #cancer_acc[j, ] <- c(cc_acc, cp_acc)\n",
        "  }\n",
        "\n",
        "  # F Test\n",
        "  FTest_G <- (var(german_acc[1]) / var(german_acc[2]))[1]\n",
        "  #FTest_C <- (var(cancer_acc[1]) / var(cancer_acc[2]))[1]\n",
        "\n",
        "  cat('Run:', i, 'Level:', level, '\\n')\n",
        "  cat('Variance across CART/PART for German dataset:', FTest_G, '\\n')\n",
        "  #cat('Variance across CART/PART for Cancer dataset:', FTest_C, '\\n\\n')\n",
        "}"
      ],
      "metadata": {
        "id": "CLzl_llP8eP7",
        "colab": {
          "base_uri": "https://localhost:8080/"
        },
        "outputId": "c3b47f08-b7d4-408d-c48b-a90f98c7814d"
      },
      "execution_count": null,
      "outputs": [
        {
          "output_type": "stream",
          "name": "stdout",
          "text": [
            "Run: 1 Level: 0.1 \n",
            "Variance across CART/PART for German dataset: 0.9764516 \n",
            "Variance across CART/PART for Cancer dataset: 1.272196 \n",
            "\n",
            "Run: 2 Level: 0.2 \n",
            "Variance across CART/PART for German dataset: 0.9484919 \n",
            "Variance across CART/PART for Cancer dataset: 0.9831831 \n",
            "\n",
            "Run: 3 Level: 0.3 \n",
            "Variance across CART/PART for German dataset: 0.7382131 \n",
            "Variance across CART/PART for Cancer dataset: 1.181806 \n",
            "\n"
          ]
        }
      ]
    }
  ]
}